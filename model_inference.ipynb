{
 "cells": [
  {
   "cell_type": "code",
   "execution_count": 1,
   "metadata": {},
   "outputs": [
    {
     "name": "stdout",
     "output_type": "stream",
     "text": [
      "Added m/z\n",
      "Added One-Hot Encoding Adducts\n",
      "Added MQNs\n",
      "Added Polarization\n",
      "Feature matrix (first 5 rows):\n",
      "[[217.3353 0.0 0.0 0.0 1.0 0.0 0.0 0.0 0.0 0.0 0.0 14.0 0.0 0.0 0.0 0.0\n",
      "  0.0 0.0 1.0 1.0 0.0 0.0 16.0 7.0 0.0 0.0 5.0 5.0 0.0 5.0 2.0 2.0 1.0\n",
      "  1.0 0.0 0.0 2.0 4.0 1.0 0.0 6.0 3.0 0.0 0.0 0.0 1.0 1.0 0.0 0.0 0.0 0.0\n",
      "  2.0 1.0 23.302910179640744]\n",
      " [189.2813 0.0 0.0 0.0 1.0 0.0 0.0 0.0 0.0 0.0 0.0 12.0 0.0 0.0 0.0 0.0\n",
      "  0.0 0.0 1.0 1.0 0.0 0.0 14.0 5.0 0.0 0.0 5.0 5.0 0.0 3.0 2.0 2.0 1.0\n",
      "  1.0 0.0 0.0 2.0 2.0 1.0 0.0 6.0 3.0 0.0 0.0 0.0 1.0 1.0 0.0 0.0 0.0 0.0\n",
      "  2.0 1.0 19.705801197604803]\n",
      " [375.2141826 0.0 0.0 0.0 0.0 0.0 0.0 0.0 1.0 0.0 0.0 20.0 0.0 0.0 0.0\n",
      "  0.0 0.0 0.0 0.0 0.0 5.0 0.0 25.0 16.0 4.0 0.0 5.0 0.0 0.0 12.0 10.0 5.0\n",
      "  3.0 3.0 0.0 0.0 6.0 12.0 2.0 0.0 1.0 4.0 0.0 0.0 0.0 1.0 0.0 0.0 0.0\n",
      "  0.0 0.0 0.0 0.0 35.17806946107788]\n",
      " [351.2176862 0.0 0.0 0.0 0.0 0.0 0.0 0.0 0.0 1.0 0.0 20.0 0.0 0.0 0.0\n",
      "  0.0 0.0 0.0 0.0 0.0 5.0 0.0 25.0 16.0 4.0 0.0 5.0 0.0 0.0 12.0 10.0 5.0\n",
      "  3.0 3.0 0.0 0.0 6.0 12.0 2.0 0.0 1.0 4.0 0.0 0.0 0.0 1.0 0.0 0.0 0.0\n",
      "  0.0 0.0 0.0 0.0 35.17806946107788]\n",
      " [126.032 0.0 0.0 0.0 1.0 0.0 0.0 0.0 0.0 0.0 0.0 2.0 0.0 0.0 0.0 0.0 0.0\n",
      "  1.0 1.0 0.0 3.0 0.0 7.0 5.0 1.0 0.0 0.0 0.0 0.0 2.0 7.0 4.0 4.0 3.0 0.0\n",
      "  0.0 4.0 2.0 0.0 1.0 0.0 0.0 0.0 0.0 0.0 0.0 0.0 0.0 0.0 0.0 0.0 0.0 0.0\n",
      "  9.467271856287423]]\n"
     ]
    }
   ],
   "source": [
    "import pickle\n",
    "from c3sdb.ml.data import C3SD\n",
    "\n",
    "_SRC_TAGS = [\n",
    "    \"zhou1016\", \"zhou0817\", \"zhen0917\", \"pagl0314\", \"righ0218\", \"nich1118\",\n",
    "    \"may_0114\", \"moll0218\", \"hine1217\", \"hine0217\", \"hine0817\", \"groe0815\",\n",
    "    \"bijl0517\", \"stow0817\", \"hine0119\", \"leap0219\", \"blaz0818\", \"tsug0220\",\n",
    "    \"lian0118\", \"teja0918\", \"pola0620\", \"dodd0220\", \"celm1120\", \"belo0321\",\n",
    "    \"ross0422\", \"baker0524\", \"mull_1223\", \"palm_0424\"\n",
    "]\n",
    "\n",
    "data = C3SD(\"C3S_clean.db\", datasets=_SRC_TAGS, seed=2345)\n",
    "data.assemble_features(encoded_adduct=True, mqn_indices=\"all\", handle_nan=\"drop\")\n",
    "\n",
    "data.train_test_split(\"ccs\")\n",
    "data.center_and_scale()\n",
    "data.show_features()\n",
    "\n",
    "# - self.N_train_       (training set size -> set by self.train_test_split(...)) \n",
    "\n",
    "# - self.X_train_       (training set split of features -> set by self.train_test_split(...))\n",
    "# - self.y_train_       (training set split of labels -> set by self.train_test_split(...))\n",
    "\n",
    "# - self.X_test_        (test set split of features -> set by self.train_test_split(...))\n",
    "# - self.y_test_        (test set split of labels -> set by self.train_test_split(...))\n",
    "\n",
    "# - self.X_train_ss_    (centered/scaled training set features -> set by self.center_and_scale(...))\n",
    "# - self.X_test_ss_     (centered/scaled test set features -> set by self.center_and_scale(...))\n"
   ]
  },
  {
   "cell_type": "code",
   "execution_count": 2,
   "metadata": {},
   "outputs": [
    {
     "name": "stdout",
     "output_type": "stream",
     "text": [
      "KMCMulti(estimator_params=[{'C': 10000, 'gamma': 0.001},\n",
      "                           {'C': 1000, 'gamma': 0.001},\n",
      "                           {'C': 10000, 'gamma': 0.001},\n",
      "                           {'C': 1000, 'gamma': 0.001}],\n",
      "         n_clusters=4, seed=2345, use_estimator=SVR(cache_size=1024))\n"
     ]
    }
   ],
   "source": [
    "PATH = \"Results\"\n",
    "FOLDER = \"unclean+polarization+mqn\"\n",
    "\n",
    "with open(PATH + \"/\" + FOLDER + \"/\" + \"c3sdb_kmcm_svr.pkl\", 'rb') as file:\n",
    "    model = pickle.load(file)\n",
    "    print(model)"
   ]
  },
  {
   "cell_type": "code",
   "execution_count": 3,
   "metadata": {},
   "outputs": [
    {
     "name": "stdout",
     "output_type": "stream",
     "text": [
      "13486\n",
      "10788\n",
      "2698\n",
      "(2449, 54)\n",
      "Number of NaNs in test_data_X: 0\n",
      "Number of NaNs in test_data_X: 0\n"
     ]
    }
   ],
   "source": [
    "import numpy as np\n",
    "# 1. Compile The Model's Data (Already Trained)\n",
    "train_valid_indices = ~np.isnan(data.X_train_ss_).any(axis=1)\n",
    "train_data_X = data.X_train_ss_[train_valid_indices]\n",
    "train_data_y = data.y_train_[train_valid_indices]\n",
    "\n",
    "# Filter NaN rows from testing data\n",
    "test_valid_indices = ~np.isnan(data.X_test_ss_).any(axis=1)\n",
    "test_data_X = data.X_test_ss_[test_valid_indices]\n",
    "test_data_y = data.y_test_[test_valid_indices]\n",
    "\n",
    "print(data.N_)\n",
    "print(data.N_train_)\n",
    "print(data.N_test_)\n",
    "\n",
    "print(test_data_X.shape)\n",
    "\n",
    "# Count NaNs\n",
    "print(\"Number of NaNs in test_data_X:\", np.isnan(test_data_X).sum())\n",
    "print(\"Number of NaNs in test_data_X:\", np.isnan(train_data_X).sum())"
   ]
  },
  {
   "cell_type": "code",
   "execution_count": 4,
   "metadata": {},
   "outputs": [
    {
     "name": "stdout",
     "output_type": "stream",
     "text": [
      "Computing predictions and metrics for the training data.\n",
      "Computing predictions and metrics for the testing data.\n"
     ]
    }
   ],
   "source": [
    "# 2. Run Inference On Model's Settings\n",
    "print(\"Computing predictions and metrics for the training data.\")\n",
    "y_pred_train = model.predict(train_data_X)\n",
    "\n",
    "print(\"Computing predictions and metrics for the testing data.\")\n",
    "y_pred_test = model.predict(test_data_X)"
   ]
  },
  {
   "cell_type": "code",
   "execution_count": 5,
   "metadata": {},
   "outputs": [
    {
     "name": "stdout",
     "output_type": "stream",
     "text": [
      "y_train shape: (9776,)\n",
      "y_pred_train shape: (9776,)\n",
      "y_test shape: (2449,)\n",
      "y_pred_test shape: (2449,)\n"
     ]
    }
   ],
   "source": [
    "print(\"y_train shape:\", train_data_y.shape)\n",
    "print(\"y_pred_train shape:\", y_pred_train.shape)\n",
    "\n",
    "print(\"y_test shape:\", test_data_y.shape)\n",
    "print(\"y_pred_test shape:\", y_pred_test.shape)"
   ]
  },
  {
   "cell_type": "code",
   "execution_count": 6,
   "metadata": {},
   "outputs": [
    {
     "name": "stdout",
     "output_type": "stream",
     "text": [
      "Calculating performance metrics.\n",
      "Generating summary figure and saving it\n"
     ]
    },
    {
     "data": {
      "image/png": "[encoded data removed]",
      "text/plain": [
       "<Figure size 500x300 with 4 Axes>"
      ]
     },
     "metadata": {},
     "output_type": "display_data"
    }
   ],
   "source": [
    "from c3sdb.ml.metrics import compute_metrics_train_test, train_test_summary_figure\n",
    "\n",
    "#Calculate performance metrics\n",
    "print(\"Calculating performance metrics.\")\n",
    "summary_new = compute_metrics_train_test(train_data_y, test_data_y, y_pred_train, y_pred_test)\n",
    "\n",
    "#Generate summary figure\n",
    "print(\"Generating summary figure and saving it\")\n",
    "train_test_summary_figure(summary_new, \"clean_polarz.png\")"
   ]
  },
  {
   "cell_type": "code",
   "execution_count": 7,
   "metadata": {},
   "outputs": [
    {
     "ename": "ImportError",
     "evalue": "_multiarray_umath failed to import",
     "output_type": "error",
     "traceback": [
      "\u001b[0;31m---------------------------------------------------------------------------\u001b[0m",
      "\u001b[0;31mImportError\u001b[0m                               Traceback (most recent call last)",
      "\u001b[0;31mImportError\u001b[0m: _multiarray_umath failed to import"
     ]
    }
   ],
   "source": [
    "import pandas as pd \n",
    "model_stats_new = pd.DataFrame(summary_new)\n",
    "model_stats_new.to_csv(\"metrics_clean_polarz.csv\")"
   ]
  }
 ],
 "metadata": {
  "kernelspec": {
   "display_name": "database_clean",
   "language": "python",
   "name": "python3"
  },
  "language_info": {
   "codemirror_mode": {
    "name": "ipython",
    "version": 3
   },
   "file_extension": ".py",
   "mimetype": "text/x-python",
   "name": "python",
   "nbconvert_exporter": "python",
   "pygments_lexer": "ipython3",
   "version": "3.10.14"
  }
 },
 "nbformat": 4,
 "nbformat_minor": 2
}
